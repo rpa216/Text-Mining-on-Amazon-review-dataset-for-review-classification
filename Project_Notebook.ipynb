{
 "cells": [
  {
   "cell_type": "code",
   "execution_count": 655,
   "metadata": {
    "scrolled": true,
    "slideshow": {
     "slide_type": "slide"
    }
   },
   "outputs": [],
   "source": [
    "import pandas as pd\n",
    "import numpy as np\n",
    "import matplotlib.pyplot as plt\n",
    "import sklearn\n",
    "from pymongo import MongoClient\n",
    "from nltk.corpus import stopwords\n",
    "from nltk.tokenize import word_tokenize, sent_tokenize\n",
    "import string\n",
    "import os, sys\n",
    "from time import time\n",
    "import warnings"
   ]
  },
  {
   "cell_type": "code",
   "execution_count": 656,
   "metadata": {
    "scrolled": false,
    "slideshow": {
     "slide_type": "slide"
    }
   },
   "outputs": [
    {
     "data": {
      "text/plain": [
       "7824482"
      ]
     },
     "execution_count": 656,
     "metadata": {},
     "output_type": "execute_result"
    }
   ],
   "source": [
    "warnings.filterwarnings('ignore')\n",
    "client = MongoClient(username='myUserAdmin', password='abc123')\n",
    "db = client.Amazon\n",
    "collection = db.reviews_Electronics\n",
    "data = collection.count()\n",
    "data"
   ]
  },
  {
   "cell_type": "code",
   "execution_count": 657,
   "metadata": {
    "collapsed": true,
    "scrolled": true,
    "slideshow": {
     "slide_type": "slide"
    }
   },
   "outputs": [],
   "source": [
    "data = pd.DataFrame(list(collection.find().limit(50000)))"
   ]
  },
  {
   "cell_type": "code",
   "execution_count": null,
   "metadata": {
    "scrolled": true,
    "slideshow": {
     "slide_type": "slide"
    }
   },
   "outputs": [],
   "source": [
    "client1 = MongoClient()\n",
    "db1 = client1.Amazon\n",
    "collection = db['mate_Electronics']\n",
    "data1 = collection.count()\n",
    "data2 = pd.DataFrame(list(collection.find().limit(50000)))\n",
    "data2.drop(['_id'],1, inplace=True)\n",
    "data2.head()\n",
    "data2.drop(['brand','imUrl','price','salesRank'],1, inplace=True)"
   ]
  },
  {
   "cell_type": "code",
   "execution_count": null,
   "metadata": {
    "scrolled": true,
    "slideshow": {
     "slide_type": "slide"
    }
   },
   "outputs": [],
   "source": [
    "#data2.drop(['_id'],1, inplace=True)\n",
    "data2.count()"
   ]
  },
  {
   "cell_type": "markdown",
   "metadata": {},
   "source": [
    "## Performing the tokenization and then trying to filter the data to  develop a dataset ready for a classification data"
   ]
  },
  {
   "cell_type": "code",
   "execution_count": null,
   "metadata": {
    "collapsed": true,
    "scrolled": true
   },
   "outputs": [],
   "source": [
    "data_merge = pd.merge(data, data2, on='asin',how='left', left_on=None, right_on=None, left_index=False,sort=True)\n",
    "#data.sort_values(by = data.unixReviewTime.tolist(),axis=0, ascending = True, kind='mergesort')\n",
    "#d.merge_asof(data,data2, on='asin', allow_exact_matches=False)\n",
    "#)data_merge.head()\n",
    "#data_merge.count()"
   ]
  },
  {
   "cell_type": "code",
   "execution_count": null,
   "metadata": {
    "collapsed": true,
    "scrolled": true
   },
   "outputs": [],
   "source": [
    "# data_merge.drop(['_id'], 1, inplace=True)\n",
    "# data2.drop(['_id'],1, inplace=True)"
   ]
  },
  {
   "cell_type": "code",
   "execution_count": null,
   "metadata": {
    "scrolled": true
   },
   "outputs": [],
   "source": [
    "import random\n",
    "#random.shuffle(data_merge)\n",
    "data7 = data_merge.sample(n=10000)\n",
    "data7.head()\n",
    "#a =data7.loc[data['asin'] == 'B00000JDHV']\n",
    "d = data7.reviewText.tolist()\n",
    "z = data7.summary.tolist()\n",
    "y = data7.overall.tolist()\n",
    "asin = data7.asin.tolist()\n",
    "data7.head()"
   ]
  },
  {
   "cell_type": "code",
   "execution_count": null,
   "metadata": {
    "scrolled": false
   },
   "outputs": [],
   "source": [
    "# from nltk.corpus import stopwords\n",
    "# from nltk.tokenize import word_tokenize, sent_tokenize\n",
    "#stop_word = set(stopwords.words(\"english\"))\n",
    "# # for i in stop_word:\n",
    "# #     print(i)\n",
    "# token_a = []\n",
    "# for i in a:\n",
    "#     token_a.append(sent_tokenize(i))\n",
    "# #print((token_a[1][:10]))\n",
    "#c = c[:3]\n",
    "#print(a[1])\n",
    "\n",
    "def tokenizing(a):\n",
    "    filter_sentence=[]\n",
    "    for i in range(len(a)):\n",
    "        example_sentence = str(a[i])\n",
    "        stop_word = set(stopwords.words(\"english\"))\n",
    "        words = word_tokenize(example_sentence)\n",
    "        temp = []\n",
    "        for w in words:\n",
    "            x = \" \"\n",
    "            if w in stop_word:\n",
    "                words.remove(w)    \n",
    "                x = ''.join(w)\n",
    "            else:\n",
    "                x = ''.join(w)\n",
    "            #print(x)\n",
    "            temp.append(x)\n",
    "        filter_sentence.append(temp)\n",
    "    final_output = []\n",
    "    for x in range(len(filter_sentence)):\n",
    "        a = \" \"\n",
    "        for i in filter_sentence[x]:\n",
    "            a+=\" \"+i\n",
    "        final_output.append(a)\n",
    "    return(final_output)\n",
    "token_ouptut = tokenizing(d)\n",
    "token_summary = tokenizing(z)\n",
    "print(len(token_summary))"
   ]
  },
  {
   "cell_type": "code",
   "execution_count": null,
   "metadata": {
    "collapsed": true,
    "scrolled": true
   },
   "outputs": [],
   "source": [
    "print(token_ouptut[:10])\n",
    "print(token_summary[0])"
   ]
  },
  {
   "cell_type": "code",
   "execution_count": null,
   "metadata": {
    "collapsed": true,
    "scrolled": true
   },
   "outputs": [],
   "source": [
    "def token_words(a):\n",
    "    words1 = []\n",
    "    filter_sentence=[]\n",
    "    for i in range(len(a)):\n",
    "        example_sentence = str(a[i])\n",
    "        words = word_tokenize(example_sentence)\n",
    "        words1.append(words)\n",
    "    return(words1)\n",
    "print(len(token_words(d)))\n",
    "print(token_words(d))"
   ]
  },
  {
   "cell_type": "code",
   "execution_count": 561,
   "metadata": {
    "scrolled": false
   },
   "outputs": [
    {
     "name": "stdout",
     "output_type": "stream",
     "text": [
      "[1658, 7533, 809]\n"
     ]
    }
   ],
   "source": [
    "y = data7.overall.tolist()\n",
    "asin = data7.asin.tolist()\n",
    "id_score_mapper = []\n",
    "for i in range(len(y)):\n",
    "    id_score_mapper.append([asin[i], y[i]])\n",
    "\n",
    "def Overall_low_score_category(a):\n",
    "    low_score = []\n",
    "    for i in a:\n",
    "        if i[1] >=0 and i[1] <=2.49:\n",
    "            low_score.append(i)\n",
    "    return(low_score)\n",
    "def Overall_medium_score_category(a):\n",
    "    medium_score = []\n",
    "    for i in a:\n",
    "        if i[1] >=2.5 and i[1] <=3.99:\n",
    "            medium_score.append(i)\n",
    "    return(medium_score)\n",
    "\n",
    "def Overall_high_score_category(a):\n",
    "    high_score = []\n",
    "    for i in a:\n",
    "        if i[1] >=4:\n",
    "            high_score.append(i)\n",
    "    return(high_score)\n",
    "q1 = len(Overall_low_score_category(id_score_mapper))\n",
    "q2 =len(Overall_high_score_category(id_score_mapper))\n",
    "q3 = len(Overall_medium_score_category(id_score_mapper))\n",
    "Q= [q1, q2, q3]\n",
    "print(Q)"
   ]
  },
  {
   "cell_type": "code",
   "execution_count": 594,
   "metadata": {},
   "outputs": [
    {
     "data": {
      "image/png": "[encoded data removed]",
      "text/plain": [
       "<matplotlib.figure.Figure at 0xf7a0160>"
      ]
     },
     "metadata": {},
     "output_type": "display_data"
    }
   ],
   "source": [
    "#Histogram of the categorizing the quality of the products based on the overall score\n",
    "plt.title(\"Quality categorzation of Amazon Products\")\n",
    "plt.xlabel(\"Number of products\")\n",
    "y1 = [1.25, 3.0, 5.0]\n",
    "Q.sort()\n",
    "plt.grid()\n",
    "plt.plot(Q,y1, marker='*')\n",
    "plt.show()"
   ]
  },
  {
   "cell_type": "code",
   "execution_count": null,
   "metadata": {
    "collapsed": true,
    "scrolled": true
   },
   "outputs": [],
   "source": [
    "print(helpful[1])"
   ]
  },
  {
   "cell_type": "code",
   "execution_count": null,
   "metadata": {
    "collapsed": true,
    "scrolled": true
   },
   "outputs": [],
   "source": [
    "token_ouptut_data_frame = pd.DataFrame(token_ouptut)\n",
    "token_ouptut_data_frame.to_csv(path_or_buf = 'review_classify.csv')"
   ]
  },
  {
   "cell_type": "code",
   "execution_count": null,
   "metadata": {
    "collapsed": true,
    "scrolled": true
   },
   "outputs": [],
   "source": [
    "token_ouptut[:11]"
   ]
  },
  {
   "cell_type": "code",
   "execution_count": null,
   "metadata": {
    "collapsed": true,
    "scrolled": true
   },
   "outputs": [],
   "source": [
    "def review_classify(sentence, plot=True):\n",
    "    \n",
    "    from nltk.corpus import opinion_lexicon\n",
    "    from nltk.tokenize import treebank\n",
    "    tokenizer = treebank.TreebankWordTokenizer()\n",
    "    \n",
    "    pos_words = 0\n",
    "    neg_words = 0\n",
    "    tokenized_sent = [word.lower()for word in tokenizer.tokenize(sentence)]\n",
    "    x = list(range(len(tokenized_sent)))\n",
    "    y = []\n",
    "    for word in tokenized_sent:\n",
    "        if word in opinion_lexicon.positive():\n",
    "            pos_words+=1\n",
    "            y.append(1) #positive\n",
    "        elif word in opinion_lexicon.negative():\n",
    "            neg_words+=1\n",
    "            y.append(-1) #negative\n",
    "        else:\n",
    "            y.append(0) #neutral\n",
    "    if pos_words > neg_words:\n",
    "        pos_score = float(pos_words/len(y))\n",
    "        neg_score = float(neg_words/len(y))\n",
    "        return[sentence,'Positive', pos_score, neg_score]\n",
    "    elif pos_words < neg_words:\n",
    "        pos_score = float(pos_words/len(y))\n",
    "        neg_score = float(neg_words/len(y))\n",
    "        return[sentence,'Negative',pos_score, neg_score]\n",
    "    else:\n",
    "        return[sentence,'Neutral', 0.0]\n",
    "    if plot==True:\n",
    "        _show_plot(x,y, x_labels=tokenized_sent, y_labels=['Negative', 'Neutral', 'Positive'])   "
   ]
  },
  {
   "cell_type": "code",
   "execution_count": 558,
   "metadata": {
    "scrolled": true
   },
   "outputs": [
    {
     "data": {
      "text/html": [
       "<div>\n",
       "<style>\n",
       "    .dataframe thead tr:only-child th {\n",
       "        text-align: right;\n",
       "    }\n",
       "\n",
       "    .dataframe thead th {\n",
       "        text-align: left;\n",
       "    }\n",
       "\n",
       "    .dataframe tbody tr th {\n",
       "        vertical-align: top;\n",
       "    }\n",
       "</style>\n",
       "<table border=\"1\" class=\"dataframe\">\n",
       "  <thead>\n",
       "    <tr style=\"text-align: right;\">\n",
       "      <th></th>\n",
       "      <th>0</th>\n",
       "      <th>1</th>\n",
       "      <th>2</th>\n",
       "      <th>3</th>\n",
       "    </tr>\n",
       "  </thead>\n",
       "  <tbody>\n",
       "    <tr>\n",
       "      <th>0</th>\n",
       "      <td>Did n't charge my IdeaTab A2109 tablet</td>\n",
       "      <td>Neutral</td>\n",
       "      <td>0.0</td>\n",
       "      <td>NaN</td>\n",
       "    </tr>\n",
       "    <tr>\n",
       "      <th>1</th>\n",
       "      <td>returned it</td>\n",
       "      <td>Neutral</td>\n",
       "      <td>0.0</td>\n",
       "      <td>NaN</td>\n",
       "    </tr>\n",
       "    <tr>\n",
       "      <th>2</th>\n",
       "      <td>Nice product , bad service</td>\n",
       "      <td>Neutral</td>\n",
       "      <td>0.0</td>\n",
       "      <td>NaN</td>\n",
       "    </tr>\n",
       "    <tr>\n",
       "      <th>3</th>\n",
       "      <td>nice !</td>\n",
       "      <td>Positive</td>\n",
       "      <td>0.5</td>\n",
       "      <td>0.0</td>\n",
       "    </tr>\n",
       "    <tr>\n",
       "      <th>4</th>\n",
       "      <td>Does the</td>\n",
       "      <td>Neutral</td>\n",
       "      <td>0.0</td>\n",
       "      <td>NaN</td>\n",
       "    </tr>\n",
       "  </tbody>\n",
       "</table>\n",
       "</div>"
      ],
      "text/plain": [
       "                                          0         1    2    3\n",
       "0    Did n't charge my IdeaTab A2109 tablet   Neutral  0.0  NaN\n",
       "1                               returned it   Neutral  0.0  NaN\n",
       "2                Nice product , bad service   Neutral  0.0  NaN\n",
       "3                                    nice !  Positive  0.5  0.0\n",
       "4                                  Does the   Neutral  0.0  NaN"
      ]
     },
     "execution_count": 558,
     "metadata": {},
     "output_type": "execute_result"
    }
   ],
   "source": [
    "from collections import defaultdict\n",
    "polarity_4 = list()\n",
    "a = token_summary[:5]\n",
    "random.shuffle(token_summary)\n",
    "s = token_summary[:5]\n",
    "#s = token_ouptut[:10000]\n",
    "for i in range(len(s)):\n",
    "    polarity_4.append(review_classify(token_summary[i]))\n",
    "#print(polarity_4)\n",
    "data_1 = pd.DataFrame(polarity_4)\n",
    "data_1.head()"
   ]
  },
  {
   "cell_type": "code",
   "execution_count": 559,
   "metadata": {
    "scrolled": true
   },
   "outputs": [
    {
     "data": {
      "text/html": [
       "<div>\n",
       "<style>\n",
       "    .dataframe thead tr:only-child th {\n",
       "        text-align: right;\n",
       "    }\n",
       "\n",
       "    .dataframe thead th {\n",
       "        text-align: left;\n",
       "    }\n",
       "\n",
       "    .dataframe tbody tr th {\n",
       "        vertical-align: top;\n",
       "    }\n",
       "</style>\n",
       "<table border=\"1\" class=\"dataframe\">\n",
       "  <thead>\n",
       "    <tr style=\"text-align: right;\">\n",
       "      <th></th>\n",
       "      <th>0</th>\n",
       "      <th>1</th>\n",
       "      <th>2</th>\n",
       "      <th>3</th>\n",
       "    </tr>\n",
       "  </thead>\n",
       "  <tbody>\n",
       "    <tr>\n",
       "      <th>0</th>\n",
       "      <td>Did n't charge my IdeaTab A2109 tablet</td>\n",
       "      <td>Neutral</td>\n",
       "      <td>0.0</td>\n",
       "      <td>NaN</td>\n",
       "    </tr>\n",
       "    <tr>\n",
       "      <th>1</th>\n",
       "      <td>returned it</td>\n",
       "      <td>Neutral</td>\n",
       "      <td>0.0</td>\n",
       "      <td>NaN</td>\n",
       "    </tr>\n",
       "    <tr>\n",
       "      <th>2</th>\n",
       "      <td>Nice product , bad service</td>\n",
       "      <td>Neutral</td>\n",
       "      <td>0.0</td>\n",
       "      <td>NaN</td>\n",
       "    </tr>\n",
       "    <tr>\n",
       "      <th>3</th>\n",
       "      <td>nice !</td>\n",
       "      <td>Positive</td>\n",
       "      <td>0.5</td>\n",
       "      <td>0.0</td>\n",
       "    </tr>\n",
       "    <tr>\n",
       "      <th>4</th>\n",
       "      <td>Does the</td>\n",
       "      <td>Neutral</td>\n",
       "      <td>0.0</td>\n",
       "      <td>NaN</td>\n",
       "    </tr>\n",
       "  </tbody>\n",
       "</table>\n",
       "</div>"
      ],
      "text/plain": [
       "                                          0         1    2    3\n",
       "0    Did n't charge my IdeaTab A2109 tablet   Neutral  0.0  NaN\n",
       "1                               returned it   Neutral  0.0  NaN\n",
       "2                Nice product , bad service   Neutral  0.0  NaN\n",
       "3                                    nice !  Positive  0.5  0.0\n",
       "4                                  Does the   Neutral  0.0  NaN"
      ]
     },
     "execution_count": 559,
     "metadata": {},
     "output_type": "execute_result"
    }
   ],
   "source": [
    "# polarity_1 = polarity.copy()\n",
    "# polarity_1.drop(polarity_1.columns[[0, 1]], axis=1)\n",
    "# polarity_1.to_csv(path_or_buf = 'polarity_review.csv')\n",
    "polarity_4 = pd.DataFrame(polarity_4)\n",
    "polarity_4.to_csv(path_or_buf = 'polarity_review_summary.csv')\n",
    "polarity_4.head(10)"
   ]
  },
  {
   "cell_type": "code",
   "execution_count": 549,
   "metadata": {
    "scrolled": true
   },
   "outputs": [],
   "source": [
    "#polarity_2 = pd.read_csv('polarity_review.csv')\n",
    "polarity_4 = pd.read_csv('polarity_review.csv')\n",
    "#polarity_2.drop(polarity_2.columns[[0,1,2]], axis=1)"
   ]
  },
  {
   "cell_type": "code",
   "execution_count": 602,
   "metadata": {},
   "outputs": [
    {
     "data": {
      "text/html": [
       "<div>\n",
       "<style>\n",
       "    .dataframe thead tr:only-child th {\n",
       "        text-align: right;\n",
       "    }\n",
       "\n",
       "    .dataframe thead th {\n",
       "        text-align: left;\n",
       "    }\n",
       "\n",
       "    .dataframe tbody tr th {\n",
       "        vertical-align: top;\n",
       "    }\n",
       "</style>\n",
       "<table border=\"1\" class=\"dataframe\">\n",
       "  <thead>\n",
       "    <tr style=\"text-align: right;\">\n",
       "      <th></th>\n",
       "      <th>Unnamed: 0</th>\n",
       "      <th></th>\n",
       "      <th>.1</th>\n",
       "      <th>review_text</th>\n",
       "      <th>polarity_value</th>\n",
       "      <th>positive_score</th>\n",
       "      <th>negative_score</th>\n",
       "    </tr>\n",
       "  </thead>\n",
       "  <tbody>\n",
       "    <tr>\n",
       "      <th>0</th>\n",
       "      <td>2</td>\n",
       "      <td>2</td>\n",
       "      <td>2</td>\n",
       "      <td>I just this . The picture is good , but of m...</td>\n",
       "      <td>Positive</td>\n",
       "      <td>0.071429</td>\n",
       "      <td>0.000000</td>\n",
       "    </tr>\n",
       "    <tr>\n",
       "      <th>1</th>\n",
       "      <td>3</td>\n",
       "      <td>3</td>\n",
       "      <td>3</td>\n",
       "      <td>The coupler ( ACC-017-015 FA410 ) plug that ...</td>\n",
       "      <td>Negative</td>\n",
       "      <td>0.000000</td>\n",
       "      <td>0.054054</td>\n",
       "    </tr>\n",
       "    <tr>\n",
       "      <th>2</th>\n",
       "      <td>4</td>\n",
       "      <td>4</td>\n",
       "      <td>4</td>\n",
       "      <td>If you a of that studio quality sound and do...</td>\n",
       "      <td>Positive</td>\n",
       "      <td>0.054054</td>\n",
       "      <td>0.000000</td>\n",
       "    </tr>\n",
       "    <tr>\n",
       "      <th>3</th>\n",
       "      <td>5</td>\n",
       "      <td>5</td>\n",
       "      <td>5</td>\n",
       "      <td>This unit has perfectly in a &amp; # 34 ; TV in ...</td>\n",
       "      <td>Positive</td>\n",
       "      <td>0.083333</td>\n",
       "      <td>0.041667</td>\n",
       "    </tr>\n",
       "    <tr>\n",
       "      <th>4</th>\n",
       "      <td>6</td>\n",
       "      <td>6</td>\n",
       "      <td>6</td>\n",
       "      <td>We got one of so would n't have run a throug...</td>\n",
       "      <td>Positive</td>\n",
       "      <td>0.100000</td>\n",
       "      <td>0.033333</td>\n",
       "    </tr>\n",
       "  </tbody>\n",
       "</table>\n",
       "</div>"
      ],
      "text/plain": [
       "   Unnamed: 0      .1                                        review_text  \\\n",
       "0           2  2    2    I just this . The picture is good , but of m...   \n",
       "1           3  3    3    The coupler ( ACC-017-015 FA410 ) plug that ...   \n",
       "2           4  4    4    If you a of that studio quality sound and do...   \n",
       "3           5  5    5    This unit has perfectly in a & # 34 ; TV in ...   \n",
       "4           6  6    6    We got one of so would n't have run a throug...   \n",
       "\n",
       "  polarity_value  positive_score  negative_score  \n",
       "0       Positive        0.071429        0.000000  \n",
       "1       Negative        0.000000        0.054054  \n",
       "2       Positive        0.054054        0.000000  \n",
       "3       Positive        0.083333        0.041667  \n",
       "4       Positive        0.100000        0.033333  "
      ]
     },
     "execution_count": 602,
     "metadata": {},
     "output_type": "execute_result"
    }
   ],
   "source": [
    "polarity_2.drop(polarity_2.columns[[0,1,2]], axis=1)\n",
    "polarity_2.replace('NaN', -9999, inplace = True)\n",
    "polarity_2.replace('nan', -9999, inplace = True)\n",
    "polarity_2['negative_score'].fillna(0, inplace=True)\n",
    "polarity_2.head()"
   ]
  },
  {
   "cell_type": "markdown",
   "metadata": {},
   "source": [
    "###  Predicting the polarity of the review using trained data set using logistic regression"
   ]
  },
  {
   "cell_type": "code",
   "execution_count": 527,
   "metadata": {
    "scrolled": false
   },
   "outputs": [
    {
     "name": "stdout",
     "output_type": "stream",
     "text": [
      "measured accuracy:  71.870135646\n",
      "['Positive']\n"
     ]
    }
   ],
   "source": [
    "from sklearn.linear_model import LogisticRegression\n",
    "polarity_1.drop(polarity_1.columns[[0,1,2]], axis=1)\n",
    "X = np.c_[polarity_2.positive_score.tolist(), polarity_2.negative_score.tolist()]\n",
    "#print(X)\n",
    "from sklearn import preprocessing\n",
    "le = preprocessing.LabelEncoder()\n",
    "le.fit(polarity_2.polarity_value.tolist())\n",
    "a2= le.transform(polarity_2.polarity_value.tolist())\n",
    "y = np.array(polarity_2.polarity_value.tolist())\n",
    "#print(y)\n",
    "from sklearn.cross_validation import train_test_split\n",
    "RAN_STATE=42\n",
    "X_train, X_test, y_train, y_test = train_test_split(X, y,test_size=0.9, random_state = 4)\n",
    "clf =LogisticRegression()\n",
    "clf.fit(X_train, y_train)\n",
    "accuracy = clf.score(X_test, y_test)\n",
    "print(\"measured accuracy: \", accuracy*100)\n",
    "example_measures = np.array([[0.10, 0.995]])\n",
    "x = len(example_measures)\n",
    "example_neasures = example_measures.reshape(x,-1)\n",
    "prediction = clf.predict(example_measures)\n",
    "print(prediction)"
   ]
  },
  {
   "cell_type": "code",
   "execution_count": 639,
   "metadata": {},
   "outputs": [
    {
     "data": {
      "image/png": "[encoded data removed]",
      "text/plain": [
       "<matplotlib.figure.Figure at 0xf4cc2e8>"
      ]
     },
     "metadata": {},
     "output_type": "display_data"
    }
   ],
   "source": [
    "#Classfication of the reviews into positive negative and neutral\n",
    "polarity_2['polarity_value'] = polarity_2['polarity_value'].astype('category')\n",
    "polarity_2['Encoded_polarity'] = polarity_2['polarity_value'].cat.codes\n",
    "polarity_2.head()\n",
    "df1 = polarity_2.iloc[:,1]\n",
    "df2 = polarity_2.Encoded_polarity.tolist()\n",
    "plt.hist(df2)\n",
    "plt.show()"
   ]
  },
  {
   "cell_type": "code",
   "execution_count": 647,
   "metadata": {},
   "outputs": [
    {
     "data": {
      "image/png": "[encoded data removed]",
      "text/plain": [
       "<matplotlib.figure.Figure at 0x1e675320>"
      ]
     },
     "metadata": {},
     "output_type": "display_data"
    }
   ],
   "source": [
    "plt.scatter(polarity_2.positive_score.tolist(),polarity_2.negative_score.tolist())\n",
    "plt.xlabel(\"positive_score\")\n",
    "#plt.ylabel(\"negative_score\")\n",
    "plt.title(\"Correlation between polarities\")\n",
    "plt.show()"
   ]
  },
  {
   "cell_type": "code",
   "execution_count": null,
   "metadata": {},
   "outputs": [],
   "source": []
  },
  {
   "cell_type": "code",
   "execution_count": null,
   "metadata": {
    "collapsed": true
   },
   "outputs": [],
   "source": []
  },
  {
   "cell_type": "code",
   "execution_count": null,
   "metadata": {
    "collapsed": true,
    "scrolled": true
   },
   "outputs": [],
   "source": [
    "print(len(a))"
   ]
  },
  {
   "cell_type": "markdown",
   "metadata": {},
   "source": [
    "### Classifying the review text as helpful and not helpful"
   ]
  },
  {
   "cell_type": "code",
   "execution_count": 203,
   "metadata": {
    "scrolled": true
   },
   "outputs": [
    {
     "data": {
      "text/html": [
       "<div>\n",
       "<style>\n",
       "    .dataframe thead tr:only-child th {\n",
       "        text-align: right;\n",
       "    }\n",
       "\n",
       "    .dataframe thead th {\n",
       "        text-align: left;\n",
       "    }\n",
       "\n",
       "    .dataframe tbody tr th {\n",
       "        vertical-align: top;\n",
       "    }\n",
       "</style>\n",
       "<table border=\"1\" class=\"dataframe\">\n",
       "  <thead>\n",
       "    <tr style=\"text-align: right;\">\n",
       "      <th></th>\n",
       "      <th>asin</th>\n",
       "      <th>helpful</th>\n",
       "      <th>overall</th>\n",
       "      <th>reviewText</th>\n",
       "      <th>reviewTime</th>\n",
       "      <th>reviewerID</th>\n",
       "      <th>reviewerName</th>\n",
       "      <th>summary</th>\n",
       "      <th>unixReviewTime</th>\n",
       "    </tr>\n",
       "  </thead>\n",
       "  <tbody>\n",
       "    <tr>\n",
       "      <th>0</th>\n",
       "      <td>0132793040</td>\n",
       "      <td>[1, 1]</td>\n",
       "      <td>5.0</td>\n",
       "      <td>Corey Barker does a great job of explaining Bl...</td>\n",
       "      <td>04 13, 2013</td>\n",
       "      <td>AKM1MP6P0OYPR</td>\n",
       "      <td>Vicki Gibson \"momo4\"</td>\n",
       "      <td>Very thorough</td>\n",
       "      <td>1365811200</td>\n",
       "    </tr>\n",
       "    <tr>\n",
       "      <th>1</th>\n",
       "      <td>0439886341</td>\n",
       "      <td>[4, 4]</td>\n",
       "      <td>1.0</td>\n",
       "      <td>Do not waste your money on this thing it is te...</td>\n",
       "      <td>04 18, 2012</td>\n",
       "      <td>A1GI0U4ZRJA8WN</td>\n",
       "      <td>Truthfull</td>\n",
       "      <td>TERRIBLE DONT WASTE YOUR MONEY</td>\n",
       "      <td>1334707200</td>\n",
       "    </tr>\n",
       "    <tr>\n",
       "      <th>2</th>\n",
       "      <td>0511189877</td>\n",
       "      <td>[0, 0]</td>\n",
       "      <td>5.0</td>\n",
       "      <td>Dog got the old remote and destroyed it.  Didn...</td>\n",
       "      <td>04 14, 2014</td>\n",
       "      <td>A1QGNMC6O1VW39</td>\n",
       "      <td>CK</td>\n",
       "      <td>Works Great with my TWC box</td>\n",
       "      <td>1397433600</td>\n",
       "    </tr>\n",
       "    <tr>\n",
       "      <th>3</th>\n",
       "      <td>0321732944</td>\n",
       "      <td>[0, 0]</td>\n",
       "      <td>5.0</td>\n",
       "      <td>While many beginner DVDs try to teach you ever...</td>\n",
       "      <td>07 1, 2012</td>\n",
       "      <td>A2CX7LUOHB2NDG</td>\n",
       "      <td>Bernie</td>\n",
       "      <td>Adobe Photoshop CS5 Crash Course with master P...</td>\n",
       "      <td>1341100800</td>\n",
       "    </tr>\n",
       "    <tr>\n",
       "      <th>4</th>\n",
       "      <td>0511189877</td>\n",
       "      <td>[0, 1]</td>\n",
       "      <td>5.0</td>\n",
       "      <td>We had an old Time Warner Cable remote that wa...</td>\n",
       "      <td>03 27, 2014</td>\n",
       "      <td>A2TY0BTJOTENPG</td>\n",
       "      <td>Johnny Exx</td>\n",
       "      <td>Excellent replacement to Time Warner Cable remote</td>\n",
       "      <td>1395878400</td>\n",
       "    </tr>\n",
       "  </tbody>\n",
       "</table>\n",
       "</div>"
      ],
      "text/plain": [
       "         asin helpful  overall  \\\n",
       "0  0132793040  [1, 1]      5.0   \n",
       "1  0439886341  [4, 4]      1.0   \n",
       "2  0511189877  [0, 0]      5.0   \n",
       "3  0321732944  [0, 0]      5.0   \n",
       "4  0511189877  [0, 1]      5.0   \n",
       "\n",
       "                                          reviewText   reviewTime  \\\n",
       "0  Corey Barker does a great job of explaining Bl...  04 13, 2013   \n",
       "1  Do not waste your money on this thing it is te...  04 18, 2012   \n",
       "2  Dog got the old remote and destroyed it.  Didn...  04 14, 2014   \n",
       "3  While many beginner DVDs try to teach you ever...   07 1, 2012   \n",
       "4  We had an old Time Warner Cable remote that wa...  03 27, 2014   \n",
       "\n",
       "       reviewerID          reviewerName  \\\n",
       "0   AKM1MP6P0OYPR  Vicki Gibson \"momo4\"   \n",
       "1  A1GI0U4ZRJA8WN             Truthfull   \n",
       "2  A1QGNMC6O1VW39                    CK   \n",
       "3  A2CX7LUOHB2NDG                Bernie   \n",
       "4  A2TY0BTJOTENPG            Johnny Exx   \n",
       "\n",
       "                                             summary  unixReviewTime  \n",
       "0                                      Very thorough      1365811200  \n",
       "1                     TERRIBLE DONT WASTE YOUR MONEY      1334707200  \n",
       "2                        Works Great with my TWC box      1397433600  \n",
       "3  Adobe Photoshop CS5 Crash Course with master P...      1341100800  \n",
       "4  Excellent replacement to Time Warner Cable remote      1395878400  "
      ]
     },
     "execution_count": 203,
     "metadata": {},
     "output_type": "execute_result"
    }
   ],
   "source": [
    "data.drop(['_id'],1, inplace=True)\n",
    "data.head(5)"
   ]
  },
  {
   "cell_type": "code",
   "execution_count": 205,
   "metadata": {
    "scrolled": true
   },
   "outputs": [
    {
     "name": "stdout",
     "output_type": "stream",
     "text": [
      "overall          0\n",
      "reviewText       0\n",
      "reviewerID       0\n",
      "num_helpful      0\n",
      "denom_helpful    0\n",
      "dtype: int64\n"
     ]
    }
   ],
   "source": [
    "dh1 = data.loc[:,['overall','reviewText','helpful','reviewerID']]\n",
    "dh1['num_helpful'] = dh1['helpful'].apply(lambda x: x[0])\n",
    "dh1['denom_helpful'] = dh1['helpful'].apply(lambda x: x[1])\n",
    "del dh1['helpful']\n",
    "print(dh1.isnull().sum())"
   ]
  },
  {
   "cell_type": "code",
   "execution_count": 206,
   "metadata": {
    "scrolled": true
   },
   "outputs": [
    {
     "data": {
      "text/html": [
       "<div>\n",
       "<style>\n",
       "    .dataframe thead tr:only-child th {\n",
       "        text-align: right;\n",
       "    }\n",
       "\n",
       "    .dataframe thead th {\n",
       "        text-align: left;\n",
       "    }\n",
       "\n",
       "    .dataframe tbody tr th {\n",
       "        vertical-align: top;\n",
       "    }\n",
       "</style>\n",
       "<table border=\"1\" class=\"dataframe\">\n",
       "  <thead>\n",
       "    <tr style=\"text-align: right;\">\n",
       "      <th></th>\n",
       "      <th>overall</th>\n",
       "      <th>num_helpful</th>\n",
       "      <th>denom_helpful</th>\n",
       "    </tr>\n",
       "  </thead>\n",
       "  <tbody>\n",
       "    <tr>\n",
       "      <th>count</th>\n",
       "      <td>50000.00000</td>\n",
       "      <td>50000.000000</td>\n",
       "      <td>50000.000000</td>\n",
       "    </tr>\n",
       "    <tr>\n",
       "      <th>mean</th>\n",
       "      <td>4.03524</td>\n",
       "      <td>5.921440</td>\n",
       "      <td>6.989840</td>\n",
       "    </tr>\n",
       "    <tr>\n",
       "      <th>std</th>\n",
       "      <td>1.35555</td>\n",
       "      <td>21.311627</td>\n",
       "      <td>22.596074</td>\n",
       "    </tr>\n",
       "    <tr>\n",
       "      <th>min</th>\n",
       "      <td>1.00000</td>\n",
       "      <td>0.000000</td>\n",
       "      <td>0.000000</td>\n",
       "    </tr>\n",
       "    <tr>\n",
       "      <th>25%</th>\n",
       "      <td>4.00000</td>\n",
       "      <td>0.000000</td>\n",
       "      <td>0.000000</td>\n",
       "    </tr>\n",
       "    <tr>\n",
       "      <th>50%</th>\n",
       "      <td>5.00000</td>\n",
       "      <td>1.000000</td>\n",
       "      <td>1.000000</td>\n",
       "    </tr>\n",
       "    <tr>\n",
       "      <th>75%</th>\n",
       "      <td>5.00000</td>\n",
       "      <td>4.000000</td>\n",
       "      <td>5.000000</td>\n",
       "    </tr>\n",
       "    <tr>\n",
       "      <th>max</th>\n",
       "      <td>5.00000</td>\n",
       "      <td>1556.000000</td>\n",
       "      <td>1591.000000</td>\n",
       "    </tr>\n",
       "  </tbody>\n",
       "</table>\n",
       "</div>"
      ],
      "text/plain": [
       "           overall   num_helpful  denom_helpful\n",
       "count  50000.00000  50000.000000   50000.000000\n",
       "mean       4.03524      5.921440       6.989840\n",
       "std        1.35555     21.311627      22.596074\n",
       "min        1.00000      0.000000       0.000000\n",
       "25%        4.00000      0.000000       0.000000\n",
       "50%        5.00000      1.000000       1.000000\n",
       "75%        5.00000      4.000000       5.000000\n",
       "max        5.00000   1556.000000    1591.000000"
      ]
     },
     "execution_count": 206,
     "metadata": {},
     "output_type": "execute_result"
    }
   ],
   "source": [
    "dh1.describe()"
   ]
  },
  {
   "cell_type": "code",
   "execution_count": 386,
   "metadata": {
    "scrolled": true
   },
   "outputs": [],
   "source": [
    "import nltk\n",
    "import seaborn as sns"
   ]
  },
  {
   "cell_type": "code",
   "execution_count": 396,
   "metadata": {
    "scrolled": true
   },
   "outputs": [
    {
     "data": {
      "text/plain": [
       "<matplotlib.axes._subplots.AxesSubplot at 0x12ec6a20>"
      ]
     },
     "metadata": {},
     "output_type": "display_data"
    },
    {
     "data": {
      "image/png": "[encoded data removed]",
      "text/plain": [
       "<matplotlib.figure.Figure at 0x11ff5e10>"
      ]
     },
     "metadata": {},
     "output_type": "display_data"
    }
   ],
   "source": [
    "#plt.figure(figsize=FIG_SIZE)\n",
    "plt.title('Box plot of Features')\n",
    "plt.ylabel('Spread')\n",
    "plt.xlabel('Features')\n",
    "display(sns.boxplot(y ='num_helpful', x='overall', data=dh1))\n",
    "plt.show()"
   ]
  },
  {
   "cell_type": "code",
   "execution_count": 208,
   "metadata": {
    "scrolled": true
   },
   "outputs": [
    {
     "name": "stdout",
     "output_type": "stream",
     "text": [
      "48816\n",
      "48816\n"
     ]
    }
   ],
   "source": [
    "print(dh1['num_helpful'].idxmax(axis=0, skipna=True))\n",
    "print(dh1['denom_helpful'].idxmax(axis=0, skipna=True))"
   ]
  },
  {
   "cell_type": "code",
   "execution_count": 209,
   "metadata": {
    "scrolled": true
   },
   "outputs": [
    {
     "data": {
      "text/html": [
       "<div>\n",
       "<style>\n",
       "    .dataframe thead tr:only-child th {\n",
       "        text-align: right;\n",
       "    }\n",
       "\n",
       "    .dataframe thead th {\n",
       "        text-align: left;\n",
       "    }\n",
       "\n",
       "    .dataframe tbody tr th {\n",
       "        vertical-align: top;\n",
       "    }\n",
       "</style>\n",
       "<table border=\"1\" class=\"dataframe\">\n",
       "  <thead>\n",
       "    <tr style=\"text-align: right;\">\n",
       "      <th></th>\n",
       "      <th>overall</th>\n",
       "      <th>reviewText</th>\n",
       "      <th>reviewerID</th>\n",
       "      <th>num_helpful</th>\n",
       "      <th>denom_helpful</th>\n",
       "    </tr>\n",
       "  </thead>\n",
       "  <tbody>\n",
       "    <tr>\n",
       "      <th>48814</th>\n",
       "      <td>3.0</td>\n",
       "      <td>This lens is great for portraits if you have v...</td>\n",
       "      <td>AP1M9LIIT0K3R</td>\n",
       "      <td>0</td>\n",
       "      <td>1</td>\n",
       "    </tr>\n",
       "    <tr>\n",
       "      <th>48814</th>\n",
       "      <td>3.0</td>\n",
       "      <td>This lens is great for portraits if you have v...</td>\n",
       "      <td>AP1M9LIIT0K3R</td>\n",
       "      <td>0</td>\n",
       "      <td>1</td>\n",
       "    </tr>\n",
       "  </tbody>\n",
       "</table>\n",
       "</div>"
      ],
      "text/plain": [
       "       overall                                         reviewText  \\\n",
       "48814      3.0  This lens is great for portraits if you have v...   \n",
       "48814      3.0  This lens is great for portraits if you have v...   \n",
       "\n",
       "          reviewerID  num_helpful  denom_helpful  \n",
       "48814  AP1M9LIIT0K3R            0              1  \n",
       "48814  AP1M9LIIT0K3R            0              1  "
      ]
     },
     "execution_count": 209,
     "metadata": {},
     "output_type": "execute_result"
    }
   ],
   "source": [
    "dh1.iloc[[48814, 48814]]"
   ]
  },
  {
   "cell_type": "code",
   "execution_count": 210,
   "metadata": {
    "scrolled": true
   },
   "outputs": [
    {
     "data": {
      "text/plain": [
       "(16005, 5)"
      ]
     },
     "execution_count": 210,
     "metadata": {},
     "output_type": "execute_result"
    }
   ],
   "source": [
    "dh2 = dh1[(dh1.denom_helpful >3)].copy()\n",
    "dh2.shape"
   ]
  },
  {
   "cell_type": "markdown",
   "metadata": {},
   "source": [
    "In order to perform our analysis, we classify the review as helpful and not hepful. We need to map a way to perform this binary classification. The chosen method is to use a threshold of ratio of helpfulness of the review to people  on the web. In order to deal with large data we have out a threshold on the ratio of erview ness used for the study which is  greater the 0.6 which states the review as helpful otherwise not. "
   ]
  },
  {
   "cell_type": "code",
   "execution_count": 595,
   "metadata": {
    "scrolled": false
   },
   "outputs": [
    {
     "name": "stdout",
     "output_type": "stream",
     "text": [
      "50000\n",
      "50000\n"
     ]
    },
    {
     "data": {
      "text/html": [
       "<div>\n",
       "<style>\n",
       "    .dataframe thead tr:only-child th {\n",
       "        text-align: right;\n",
       "    }\n",
       "\n",
       "    .dataframe thead th {\n",
       "        text-align: left;\n",
       "    }\n",
       "\n",
       "    .dataframe tbody tr th {\n",
       "        vertical-align: top;\n",
       "    }\n",
       "</style>\n",
       "<table border=\"1\" class=\"dataframe\">\n",
       "  <thead>\n",
       "    <tr style=\"text-align: right;\">\n",
       "      <th></th>\n",
       "      <th>overall</th>\n",
       "      <th>reviewText</th>\n",
       "      <th>reviewerID</th>\n",
       "      <th>num_helpful</th>\n",
       "      <th>denom_helpful</th>\n",
       "      <th>Helpful1</th>\n",
       "    </tr>\n",
       "  </thead>\n",
       "  <tbody>\n",
       "    <tr>\n",
       "      <th>1</th>\n",
       "      <td>1.0</td>\n",
       "      <td>do not waste your money on this thing it is te...</td>\n",
       "      <td>A1GI0U4ZRJA8WN</td>\n",
       "      <td>4</td>\n",
       "      <td>4</td>\n",
       "      <td>1</td>\n",
       "    </tr>\n",
       "    <tr>\n",
       "      <th>11</th>\n",
       "      <td>1.0</td>\n",
       "      <td>i'm a professional otr truck driver, and i bou...</td>\n",
       "      <td>AMO214LNFCEI4</td>\n",
       "      <td>12</td>\n",
       "      <td>15</td>\n",
       "      <td>1</td>\n",
       "    </tr>\n",
       "    <tr>\n",
       "      <th>12</th>\n",
       "      <td>4.0</td>\n",
       "      <td>this is a great truck gps. i've tried others a...</td>\n",
       "      <td>A28B1G1MSJ6OO1</td>\n",
       "      <td>21</td>\n",
       "      <td>22</td>\n",
       "      <td>1</td>\n",
       "    </tr>\n",
       "  </tbody>\n",
       "</table>\n",
       "</div>"
      ],
      "text/plain": [
       "    overall                                         reviewText  \\\n",
       "1       1.0  do not waste your money on this thing it is te...   \n",
       "11      1.0  i'm a professional otr truck driver, and i bou...   \n",
       "12      4.0  this is a great truck gps. i've tried others a...   \n",
       "\n",
       "        reviewerID  num_helpful  denom_helpful  Helpful1  \n",
       "1   A1GI0U4ZRJA8WN            4              4         1  \n",
       "11   AMO214LNFCEI4           12             15         1  \n",
       "12  A28B1G1MSJ6OO1           21             22         1  "
      ]
     },
     "execution_count": 595,
     "metadata": {},
     "output_type": "execute_result"
    }
   ],
   "source": [
    "#transform Helpfulness into a binary variable with 0.50 ratio\n",
    "import numpy as np\n",
    "print(dh1['num_helpful'].count())\n",
    "print(dh1['num_helpful'].count())\n",
    "\n",
    "threshold = 0.6\n",
    "dh2.loc[:,'Helpful1'] = np.where(dh2.loc[:,'num_helpful'] / dh2.loc[:,'denom_helpful'] > threshold,1,0)\n",
    "dh2.head(3)"
   ]
  },
  {
   "cell_type": "code",
   "execution_count": 597,
   "metadata": {},
   "outputs": [
    {
     "name": "stdout",
     "output_type": "stream",
     "text": [
      "16005\n",
      "16005\n"
     ]
    },
    {
     "data": {
      "text/plain": [
       "<matplotlib.axes._subplots.AxesSubplot at 0x13a08588>"
      ]
     },
     "metadata": {},
     "output_type": "display_data"
    },
    {
     "data": {
      "image/png": "[encoded data removed]",
      "text/plain": [
       "<matplotlib.figure.Figure at 0x139846a0>"
      ]
     },
     "metadata": {},
     "output_type": "display_data"
    }
   ],
   "source": [
    "A = np.array(dh2.loc[:,'num_helpful'] / dh2.loc[:,'denom_helpful']).tolist()\n",
    "B = dh2.overall.tolist()\n",
    "print(len(A))\n",
    "print(len(B))\n",
    "plt.title('Box plot of Helpfulness feature')\n",
    "plt.ylabel(\"Number of products\")\n",
    "plt.xlabel('Review star rating')\n",
    "display(sns.boxplot(x=B, y=A))\n",
    "plt.show()"
   ]
  },
  {
   "cell_type": "code",
   "execution_count": 525,
   "metadata": {},
   "outputs": [
    {
     "name": "stdout",
     "output_type": "stream",
     "text": [
      "191\n"
     ]
    },
    {
     "data": {
      "image/png": "[encoded data removed]",
      "text/plain": [
       "<matplotlib.figure.Figure at 0xf2346d8>"
      ]
     },
     "metadata": {},
     "output_type": "display_data"
    }
   ],
   "source": [
    "C = polarity_2\n",
    "#print(len(C[1]))\n",
    "d = C.review_text.tolist()\n",
    "print(len(d[0]))\n",
    "r = B[:1000]\n",
    "a5 = d[:1000]\n",
    "a6 = []\n",
    "for i in a5:\n",
    "    a6.append(len(i))\n",
    "plt.scatter(x=a6, y =r)\n",
    "plt.xlabel(\"review length\")\n",
    "plt.ylabel(\"overall rating\")\n",
    "plt.title(\"Review lenght vs Overall Ratings\")\n",
    "plt.show()"
   ]
  },
  {
   "cell_type": "code",
   "execution_count": 212,
   "metadata": {
    "scrolled": false
   },
   "outputs": [
    {
     "data": {
      "text/html": [
       "<div>\n",
       "<style>\n",
       "    .dataframe thead tr:only-child th {\n",
       "        text-align: right;\n",
       "    }\n",
       "\n",
       "    .dataframe thead th {\n",
       "        text-align: left;\n",
       "    }\n",
       "\n",
       "    .dataframe tbody tr th {\n",
       "        vertical-align: top;\n",
       "    }\n",
       "</style>\n",
       "<table border=\"1\" class=\"dataframe\">\n",
       "  <thead>\n",
       "    <tr style=\"text-align: right;\">\n",
       "      <th></th>\n",
       "      <th>overall</th>\n",
       "      <th>reviewText</th>\n",
       "      <th>reviewerID</th>\n",
       "      <th>num_helpful</th>\n",
       "      <th>denom_helpful</th>\n",
       "      <th>Helpful1</th>\n",
       "    </tr>\n",
       "  </thead>\n",
       "  <tbody>\n",
       "    <tr>\n",
       "      <th>1</th>\n",
       "      <td>1.0</td>\n",
       "      <td>Do not waste your money on this thing it is te...</td>\n",
       "      <td>A1GI0U4ZRJA8WN</td>\n",
       "      <td>4</td>\n",
       "      <td>4</td>\n",
       "      <td>1</td>\n",
       "    </tr>\n",
       "    <tr>\n",
       "      <th>11</th>\n",
       "      <td>1.0</td>\n",
       "      <td>I'm a professional OTR truck driver, and I bou...</td>\n",
       "      <td>AMO214LNFCEI4</td>\n",
       "      <td>12</td>\n",
       "      <td>15</td>\n",
       "      <td>1</td>\n",
       "    </tr>\n",
       "    <tr>\n",
       "      <th>12</th>\n",
       "      <td>4.0</td>\n",
       "      <td>This is a great truck GPS. I've tried others a...</td>\n",
       "      <td>A28B1G1MSJ6OO1</td>\n",
       "      <td>21</td>\n",
       "      <td>22</td>\n",
       "      <td>1</td>\n",
       "    </tr>\n",
       "  </tbody>\n",
       "</table>\n",
       "</div>"
      ],
      "text/plain": [
       "    overall                                         reviewText  \\\n",
       "1       1.0  Do not waste your money on this thing it is te...   \n",
       "11      1.0  I'm a professional OTR truck driver, and I bou...   \n",
       "12      4.0  This is a great truck GPS. I've tried others a...   \n",
       "\n",
       "        reviewerID  num_helpful  denom_helpful  Helpful1  \n",
       "1   A1GI0U4ZRJA8WN            4              4         1  \n",
       "11   AMO214LNFCEI4           12             15         1  \n",
       "12  A28B1G1MSJ6OO1           21             22         1  "
      ]
     },
     "execution_count": 212,
     "metadata": {},
     "output_type": "execute_result"
    }
   ],
   "source": [
    "dh2.head(3)"
   ]
  },
  {
   "cell_type": "code",
   "execution_count": null,
   "metadata": {
    "collapsed": true
   },
   "outputs": [],
   "source": []
  },
  {
   "cell_type": "code",
   "execution_count": 213,
   "metadata": {
    "scrolled": false
   },
   "outputs": [
    {
     "name": "stdout",
     "output_type": "stream",
     "text": [
      "Count:\n"
     ]
    },
    {
     "data": {
      "text/html": [
       "<div>\n",
       "<style>\n",
       "    .dataframe thead tr:only-child th {\n",
       "        text-align: right;\n",
       "    }\n",
       "\n",
       "    .dataframe thead th {\n",
       "        text-align: left;\n",
       "    }\n",
       "\n",
       "    .dataframe tbody tr th {\n",
       "        vertical-align: top;\n",
       "    }\n",
       "</style>\n",
       "<table border=\"1\" class=\"dataframe\">\n",
       "  <thead>\n",
       "    <tr style=\"text-align: right;\">\n",
       "      <th></th>\n",
       "      <th>overall</th>\n",
       "      <th>reviewText</th>\n",
       "      <th>reviewerID</th>\n",
       "      <th>num_helpful</th>\n",
       "      <th>denom_helpful</th>\n",
       "    </tr>\n",
       "    <tr>\n",
       "      <th>Helpful1</th>\n",
       "      <th></th>\n",
       "      <th></th>\n",
       "      <th></th>\n",
       "      <th></th>\n",
       "      <th></th>\n",
       "    </tr>\n",
       "  </thead>\n",
       "  <tbody>\n",
       "    <tr>\n",
       "      <th>0</th>\n",
       "      <td>3070</td>\n",
       "      <td>3070</td>\n",
       "      <td>3070</td>\n",
       "      <td>3070</td>\n",
       "      <td>3070</td>\n",
       "    </tr>\n",
       "    <tr>\n",
       "      <th>1</th>\n",
       "      <td>12935</td>\n",
       "      <td>12935</td>\n",
       "      <td>12935</td>\n",
       "      <td>12935</td>\n",
       "      <td>12935</td>\n",
       "    </tr>\n",
       "  </tbody>\n",
       "</table>\n",
       "</div>"
      ],
      "text/plain": [
       "          overall  reviewText  reviewerID  num_helpful  denom_helpful\n",
       "Helpful1                                                             \n",
       "0            3070        3070        3070         3070           3070\n",
       "1           12935       12935       12935        12935          12935"
      ]
     },
     "metadata": {},
     "output_type": "display_data"
    }
   ],
   "source": [
    "#check the balance\n",
    "print('Count:')\n",
    "display(dh2.groupby('Helpful1').count())"
   ]
  },
  {
   "cell_type": "code",
   "execution_count": 395,
   "metadata": {
    "scrolled": true
   },
   "outputs": [
    {
     "data": {
      "image/png": "[encoded data removed]",
      "text/plain": [
       "<matplotlib.figure.Figure at 0x12000eb8>"
      ]
     },
     "metadata": {},
     "output_type": "display_data"
    }
   ],
   "source": [
    "#Visualize the correlation of the data\n",
    "import sys, os\n",
    "sys.path.append(\"./matplotlib/\")\n",
    "sys.path.append(\"./seaborn/\")\n",
    "correlations = dh2.corr()\n",
    "#figure.FIGURE(figsize = FIG_SIZE)\n",
    "plt.title(\"Heatmap of correlations in each category\") \n",
    "sns.heatmap(correlations, vmin=0, vmax=1, annot=True)\n",
    "plt.show()"
   ]
  },
  {
   "cell_type": "markdown",
   "metadata": {},
   "source": [
    "### Text Feature Generation for Benchmark model"
   ]
  },
  {
   "cell_type": "code",
   "execution_count": 217,
   "metadata": {
    "scrolled": true
   },
   "outputs": [
    {
     "name": "stdout",
     "output_type": "stream",
     "text": [
      "1        do not waste your money on this thing it is te...\n",
      "11       i'm a professional otr truck driver, and i bou...\n",
      "12       this is a great truck gps. i've tried others a...\n",
      "13       well, what can i say.  i've had this unit in m...\n",
      "14       not going to write a long review, even thought...\n",
      "15       my brother is a trucker and pre-ordered this. ...\n",
      "17       i did a lot of comparison shopping and decided...\n",
      "22       excellent. best truck gps i've used. good grap...\n",
      "24       well as one of the first to get this i figured...\n",
      "31       this gps rocks!! dont even bother with other q...\n",
      "45       twice this item has turned into a useless bric...\n",
      "46       dont waist your money on this product my cell ...\n",
      "87       adapter does not work from the begining.it is ...\n",
      "89       this is great now i can watch the movies from ...\n",
      "114      same charger can be bought at barnes & noble f...\n",
      "125      go to target or barnes and noble instead, and ...\n",
      "138      this was the wrong power kit.  i had to return...\n",
      "161      excellent  7\"  inches  navigation  system , wo...\n",
      "162      i bought the blue logger and both street atlas...\n",
      "163      the first peron to review this incorrectly sta...\n",
      "169      i am very disappointed in this product. i purc...\n",
      "170      i agree with all the other feedback saying thi...\n",
      "171      it is the year 2005. the 21st century. we've p...\n",
      "172      i have so for used inav iguidance,mapopolis,na...\n",
      "173      i am trying to get this to work for the last 2...\n",
      "221      this wall mount does everything it's supposed ...\n",
      "239      i used this for my 47&#34; samsung. its fit/fe...\n",
      "241      purchased this mounting unit for my 50\" plasma...\n",
      "296      i bought this mount to use in an rv with a 32\"...\n",
      "298      what is with all the 4 and 5 star reviews? thi...\n",
      "                               ...                        \n",
      "49922    i just bought this dvd player, it works perfec...\n",
      "49923    this is a cheap dvd with all the basic functio...\n",
      "49928    alright folks, what do you buy a dvd player fo...\n",
      "49929    i bought this system today and i am very impre...\n",
      "49934    i bought this player to replace my dvd-rom dri...\n",
      "49937    i don't have a need for a very expensive dvd p...\n",
      "49939    i just bought this player last night and, besi...\n",
      "49940    excellent case with more then enough room (may...\n",
      "49941    i am writing this review based on a person who...\n",
      "49942    gt plus does everything the t280 does, but it ...\n",
      "49943    this is a decieving radio. you need a business...\n",
      "49944    any product, when tested, shows its true color...\n",
      "49945    this camera bag fits the camera it was made fo...\n",
      "49948    they say two miles, but i think you actually g...\n",
      "49955    i purchased the 930 based on the recommendatio...\n",
      "49960    on the jobsite or in the workplace, profession...\n",
      "49961    i bought this sadx930 when ward's closed for g...\n",
      "49962    i found the solution here:[...]it's a great st...\n",
      "49963          the best product ever designed by technics.\n",
      "49964    runs way too hot.  mine burned out after 18 mo...\n",
      "49969    i've owned this dvd carousel for about two yea...\n",
      "49972    i bought this bag in hopes that my professiona...\n",
      "49973    i havn't utilized all the features yet, so i g...\n",
      "49975    this is a deep-sounding, bass-pumping speaker ...\n",
      "49976    this is a flexible lead composite bag that doe...\n",
      "49983    never had one of these before..  easy to carry...\n",
      "49984    i got this a few days ago, it is very good. i ...\n",
      "49986    it looks like this product has been around for...\n",
      "49988    who needs another cleaning kit? this one does ...\n",
      "49996    the felt tip came off on the first applicaton....\n",
      "Name: reviewText, Length: 16005, dtype: object\n"
     ]
    }
   ],
   "source": [
    "from string import *\n",
    "dh2.loc[:, 'reviewText']= dh2['reviewText'].str.lower()\n",
    "def remove_punctuation(text):\n",
    "    return text.translate(string.punctuation.translate('\"'))\n",
    "dh2['reviewText']=dh2['reviewText'].apply( lambda x: remove_punctuation(x))\n",
    "dh2['reviewText'].head(4)\n",
    "print(dh2['reviewText'])"
   ]
  },
  {
   "cell_type": "code",
   "execution_count": 215,
   "metadata": {
    "scrolled": true
   },
   "outputs": [
    {
     "data": {
      "text/plain": [
       "<16005x55 sparse matrix of type '<class 'numpy.float64'>'\n",
       "\twith 147900 stored elements in Compressed Sparse Row format>"
      ]
     },
     "execution_count": 215,
     "metadata": {},
     "output_type": "execute_result"
    }
   ],
   "source": [
    "#tokenizing text with Tfidf\n",
    "from sklearn.feature_extraction.text import TfidfVectorizer\n",
    "from nltk.stem.snowball import SnowballStemmer\n",
    "\n",
    "import os\n",
    "#create a stemmer calling the class Snowball Stemmer\n",
    "stemmer = SnowballStemmer(\"english\")\n",
    "\n",
    "def tokens(x):\n",
    "    x = x.split()\n",
    "    stems = []\n",
    "    [stems.append(stemmer.stem(word)) for word in x]\n",
    "    return stems\n",
    "\n",
    "#define our own tokenizing function that we will pass into the TFIDFVectorizer. \n",
    "#We will also stem the words here.\n",
    "\n",
    "if os.path.exists('features.pickle'):\n",
    "    print('Pickled file alredy present, loading....')\n",
    "    features = pickle.load(open(\"features.pickle\", \"rb\"))\n",
    "    print('Pickle file loaded.')\n",
    "else:\n",
    "    #define the vectorizer\n",
    "    vectorizer = TfidfVectorizer(tokenizer = tokens, \n",
    "                                 stop_words = 'english', ngram_range=(1,1), min_df = 0.1)\n",
    "    #fit the vectorizers to the data.\n",
    "    features = vectorizer.fit_transform(dh2['reviewText'])\n",
    "(features)"
   ]
  },
  {
   "cell_type": "code",
   "execution_count": 335,
   "metadata": {
    "scrolled": true
   },
   "outputs": [],
   "source": [
    "from sklearn.cross_validation import train_test_split\n",
    "X = (features)\n",
    "y = np.c_[dh2.Helpful1.tolist()]\n",
    "X_train, X_test, y_train, y_test = train_test_split(X,y, test_size=0.2)"
   ]
  },
  {
   "cell_type": "code",
   "execution_count": 377,
   "metadata": {},
   "outputs": [],
   "source": [
    "from sklearn.metrics import roc_auc_score, roc_curve\n",
    "import time\n",
    "def train_classifier(clf, X_train, y_train):\n",
    "    ''' Fits a classifier to the training data. '''   \n",
    "    clf.fit(X_train, y_train)\n",
    "    print (\"Trained model..!!!\")\n",
    "  \n",
    "# def predict_labels(clf, features, target):\n",
    "#     ''' Makes predictions using a fit classifier based on roc_auc score. '''    \n",
    "#     probas = clf.predict_proba(features)\n",
    "#     return roc_auc_score(target.values, probas[:,1].T)\n",
    "\n",
    "def train_predict(clf, X_train, y_train, X_test, y_test):\n",
    "    ''' Train and predict using a classifer based on roc_auc score. '''\n",
    "    # Train the classifier\n",
    "    print (\"Training a {} using a training set size of {}. . .\".format(clf.__class__.__name__, X_train.shape[0]))\n",
    "    train_classifier(clf, X_train, y_train)\n",
    "    print(\"Below is the ROC auccuracy score of the trained classifier: \")\n",
    "    print(clf_test_roc_score(clf, X_train, y_train, X_test, y_test))\n",
    "    # Print the results of prediction for both training and testing\n",
    "    #print (\"ROC_AUC score for training set: {:.4f}.\".format(predict_labels(clf, X_train, y_train)))\n",
    "    #print (\"ROC_AUC score for test set: {:.4f}.\\n\".format(predict_labels(clf, X_test, y_test)))\n",
    "    \n",
    "def clf_test_roc_score(clf, X_train, y_train, X_test, y_test):\n",
    "    clf.fit(X_train, y_train)\n",
    "    probas = probas =clf.predict_proba(X_test)\n",
    "    return roc_auc_score(y_test, probas[:,1].T)"
   ]
  },
  {
   "cell_type": "code",
   "execution_count": 409,
   "metadata": {},
   "outputs": [
    {
     "name": "stdout",
     "output_type": "stream",
     "text": [
      "Training a GaussianNB using a training set size of 5000. . .\n",
      "Trained model..!!!\n",
      "Below is the ROC auccuracy score of the trained classifier: \n",
      "0.628695343417\n",
      "Training a GaussianNB using a training set size of 10000. . .\n",
      "Trained model..!!!\n",
      "Below is the ROC auccuracy score of the trained classifier: \n",
      "0.632902359455\n",
      "Training a GaussianNB using a training set size of 12804. . .\n",
      "Trained model..!!!\n",
      "Below is the ROC auccuracy score of the trained classifier: \n",
      "0.635881109381\n",
      "Training a GaussianNB using a training set size of 12804. . .\n",
      "Trained model..!!!\n",
      "Below is the ROC auccuracy score of the trained classifier: \n",
      "0.635881109381\n",
      "Training a RandomForestClassifier using a training set size of 5000. . .\n",
      "Trained model..!!!\n",
      "Below is the ROC auccuracy score of the trained classifier: \n",
      "0.62156686716\n",
      "Training a RandomForestClassifier using a training set size of 10000. . .\n",
      "Trained model..!!!\n",
      "Below is the ROC auccuracy score of the trained classifier: \n",
      "0.658566259007\n",
      "Training a RandomForestClassifier using a training set size of 12804. . .\n",
      "Trained model..!!!\n",
      "Below is the ROC auccuracy score of the trained classifier: \n",
      "0.644183080272\n",
      "Training a RandomForestClassifier using a training set size of 12804. . .\n",
      "Trained model..!!!\n",
      "Below is the ROC auccuracy score of the trained classifier: \n",
      "0.644183080272\n",
      "Training a LogisticRegression using a training set size of 5000. . .\n",
      "Trained model..!!!\n",
      "Below is the ROC auccuracy score of the trained classifier: \n",
      "0.695413927568\n",
      "Training a LogisticRegression using a training set size of 10000. . .\n",
      "Trained model..!!!\n",
      "Below is the ROC auccuracy score of the trained classifier: \n",
      "0.702809965639\n",
      "Training a LogisticRegression using a training set size of 12804. . .\n",
      "Trained model..!!!\n",
      "Below is the ROC auccuracy score of the trained classifier: \n",
      "0.706290787438\n",
      "Training a LogisticRegression using a training set size of 12804. . .\n",
      "Trained model..!!!\n",
      "Below is the ROC auccuracy score of the trained classifier: \n",
      "0.706290787438\n",
      "Training a DecisionTreeClassifier using a training set size of 5000. . .\n",
      "Trained model..!!!\n",
      "Below is the ROC auccuracy score of the trained classifier: \n",
      "0.555021411241\n",
      "Training a DecisionTreeClassifier using a training set size of 10000. . .\n",
      "Trained model..!!!\n",
      "Below is the ROC auccuracy score of the trained classifier: \n",
      "0.576313980325\n",
      "Training a DecisionTreeClassifier using a training set size of 12804. . .\n",
      "Trained model..!!!\n",
      "Below is the ROC auccuracy score of the trained classifier: \n",
      "0.540448421008\n",
      "Training a DecisionTreeClassifier using a training set size of 12804. . .\n",
      "Trained model..!!!\n",
      "Below is the ROC auccuracy score of the trained classifier: \n",
      "0.540448421008\n",
      "Training a SVC using a training set size of 5000. . .\n",
      "Trained model..!!!\n",
      "Below is the ROC auccuracy score of the trained classifier: \n",
      "0.624833009951\n",
      "Training a SVC using a training set size of 10000. . .\n",
      "Trained model..!!!\n",
      "Below is the ROC auccuracy score of the trained classifier: \n",
      "0.662378227897\n",
      "Training a SVC using a training set size of 12804. . .\n",
      "Trained model..!!!\n",
      "Below is the ROC auccuracy score of the trained classifier: \n",
      "0.660192720052\n",
      "Training a SVC using a training set size of 12804. . .\n",
      "Trained model..!!!\n",
      "Below is the ROC auccuracy score of the trained classifier: \n",
      "0.660192720052\n"
     ]
    }
   ],
   "source": [
    "# Import the supervised learning models from sklearn\n",
    "from sklearn.naive_bayes import GaussianNB\n",
    "from sklearn.ensemble import AdaBoostClassifier\n",
    "from sklearn.ensemble import RandomForestClassifier\n",
    "from sklearn.linear_model import LogisticRegression\n",
    "from sklearn.tree import DecisionTreeClassifier\n",
    "from sklearn.svm import SVC\n",
    "\n",
    "# Initialize the models using a random state were applicable.\n",
    "clf_list = [GaussianNB(),  \n",
    "            RandomForestClassifier(random_state = RAN_STATE), \n",
    "            LogisticRegression(random_state = RAN_STATE),\n",
    "            DecisionTreeClassifier(random_state = RAN_STATE),\n",
    "           SVC(random_state = RAN_STATE, kernel='linear', probability=True)]\n",
    "x_tr = X_train.toarray()\n",
    "x_te = X_test.toarray()\n",
    "\n",
    "\n",
    "# Set up the training set sizes for 100, 200 and 300 respectively.\n",
    "train_feature_list = [x_tr[0:5000],x_tr[0:10000],x_tr[:15000], x_tr]\n",
    "train_target_list = [y_train[0:5000], y_train[0:10000], y_train[:15000], y_train]\n",
    "\n",
    "\n",
    "# Execute the 'train_predict' function for each of the classifiers and each training set size\n",
    "for clf in clf_list:\n",
    "    for a, b in zip(train_feature_list, train_target_list):\n",
    "        train_predict(clf, a, b, x_te, y_test)"
   ]
  },
  {
   "cell_type": "code",
   "execution_count": 399,
   "metadata": {},
   "outputs": [
    {
     "data": {
      "image/png": "[encoded data removed]",
      "text/plain": [
       "<matplotlib.figure.Figure at 0x1304d320>"
      ]
     },
     "metadata": {},
     "output_type": "display_data"
    }
   ],
   "source": [
    "for clf in clf_list:\n",
    "    x_graph = []\n",
    "    y_graph = []\n",
    "    for a, b in zip(train_feature_list, train_target_list):\n",
    "        y_graph.append(clf_test_roc_score(clf, a, b, x_te, y_test))\n",
    "        x_graph.append(len(a))\n",
    "    plt.scatter(x_graph,y_graph)\n",
    "    plt.plot(x_graph,y_graph, label = clf.__class__.__name__)\n",
    "FIG_SIZE = (14,8)\n",
    "plt.title('Comparison of Different Classifiers')\n",
    "plt.xlabel('Training Size')\n",
    "plt.ylabel('ROC_AUC score on test set')\n",
    "plt.legend(bbox_to_anchor=(1.8, 1.20))\n",
    "#plt.figure(figsize=FIG_SIZE)             \n",
    "plt.show()"
   ]
  },
  {
   "cell_type": "code",
   "execution_count": null,
   "metadata": {
    "collapsed": true
   },
   "outputs": [],
   "source": [
    "clf6 = SVC(random_state = RAN_STATE, kernel='linear', probability=True)\n",
    "clf6.fit(X_train,y_train)\n",
    "probas = clf6.predict_proba(X_test)\n",
    "plt.plot(roc_curve(y_test, probas[:,1])[0], roc_curve(y_test, probas[:,1])[1], label = 'TF IDF')\n",
    "plt.title('ROC Curve for Helpful Rating')\n",
    "plt.grid()\n",
    "plt.xlabel('False Positive Rate (1 - Specificity)')\n",
    "plt.ylabel('True Positive Rate (Sensitivity)')\n",
    "plt.legend(bbox_to_anchor=(1.0, .5))\n",
    "plt.figure(figsize=FIG_SIZE) \n",
    "plt.show()"
   ]
  },
  {
   "cell_type": "code",
   "execution_count": 405,
   "metadata": {},
   "outputs": [
    {
     "data": {
      "image/png": "[encoded data removed]",
      "text/plain": [
       "<matplotlib.figure.Figure at 0x13007358>"
      ]
     },
     "metadata": {},
     "output_type": "display_data"
    },
    {
     "data": {
      "text/plain": [
       "<matplotlib.figure.Figure at 0x13169cf8>"
      ]
     },
     "metadata": {},
     "output_type": "display_data"
    }
   ],
   "source": [
    "clf5 = DecisionTreeClassifier()\n",
    "clf5.fit(X_train,y_train)\n",
    "probas = clf5.predict_proba(X_test)\n",
    "plt.plot(roc_curve(y_test, probas[:,1])[0], roc_curve(y_test, probas[:,1])[1], label = 'TF IDF')\n",
    "plt.title('ROC Curve for Helpful Rating')\n",
    "plt.grid()\n",
    "plt.xlabel('False Positive Rate (1 - Specificity)')\n",
    "plt.ylabel('True Positive Rate (Sensitivity)')\n",
    "plt.legend(bbox_to_anchor=(1.0, .5))\n",
    "plt.figure(figsize=FIG_SIZE) \n",
    "plt.show()"
   ]
  },
  {
   "cell_type": "code",
   "execution_count": 403,
   "metadata": {},
   "outputs": [
    {
     "data": {
      "image/png": "[encoded data removed]",
      "text/plain": [
       "<matplotlib.figure.Figure at 0x11fde630>"
      ]
     },
     "metadata": {},
     "output_type": "display_data"
    },
    {
     "data": {
      "text/plain": [
       "<matplotlib.figure.Figure at 0x1311d6a0>"
      ]
     },
     "metadata": {},
     "output_type": "display_data"
    }
   ],
   "source": [
    "clf3 = LogisticRegression()\n",
    "clf3.fit(X_train,y_train)\n",
    "probas = clf3.predict_proba(X_test)\n",
    "plt.plot(roc_curve(y_test, probas[:,1])[0], roc_curve(y_test, probas[:,1])[1], label = 'TF IDF')\n",
    "plt.title('ROC Curve for Helpful Rating')\n",
    "plt.grid()\n",
    "plt.xlabel('False Positive Rate (1 - Specificity)')\n",
    "plt.ylabel('True Positive Rate (Sensitivity)')\n",
    "plt.legend(bbox_to_anchor=(1.0, .5))\n",
    "plt.figure(figsize=FIG_SIZE) \n",
    "plt.show()"
   ]
  },
  {
   "cell_type": "code",
   "execution_count": 402,
   "metadata": {},
   "outputs": [
    {
     "data": {
      "image/png": "[encoded data removed]",
      "text/plain": [
       "<matplotlib.figure.Figure at 0x1305f940>"
      ]
     },
     "metadata": {},
     "output_type": "display_data"
    },
    {
     "data": {
      "text/plain": [
       "<matplotlib.figure.Figure at 0x1309aa58>"
      ]
     },
     "metadata": {},
     "output_type": "display_data"
    }
   ],
   "source": [
    "clf4 = RandomForestClassifier()\n",
    "clf4.fit(X_train,y_train)\n",
    "probas = clf4.predict_proba(X_test)\n",
    "plt.plot(roc_curve(y_test, probas[:,1])[0], roc_curve(y_test, probas[:,1])[1], label = 'TF IDF')\n",
    "plt.title('ROC Curve for Helpful Rating')\n",
    "plt.grid()\n",
    "plt.xlabel('False Positive Rate (1 - Specificity)')\n",
    "plt.ylabel('True Positive Rate (Sensitivity)')\n",
    "plt.legend(bbox_to_anchor=(1.0, .5))\n",
    "plt.figure(figsize=FIG_SIZE) \n",
    "plt.show()"
   ]
  },
  {
   "cell_type": "code",
   "execution_count": null,
   "metadata": {
    "collapsed": true
   },
   "outputs": [],
   "source": []
  },
  {
   "cell_type": "markdown",
   "metadata": {},
   "source": [
    "###  Cosine similarity matrix for checking the pattern of a particular review for a particular product by comparing it with rest of the review for that product\n",
    "(Reference:http://blog.christianperone.com/2013/09/machine-learning-cosine-similarity-for-vector-space-models-part-iii/)"
   ]
  },
  {
   "cell_type": "code",
   "execution_count": 440,
   "metadata": {
    "scrolled": false
   },
   "outputs": [
    {
     "name": "stdout",
     "output_type": "stream",
     "text": [
      "21\n"
     ]
    }
   ],
   "source": [
    "cosine_data = data_merge.loc[data_merge['asin'] == 'B00004TJ0L']\n",
    "review_list = cosine_data.reviewText.tolist()\n",
    "print(len(review_list))\n",
    "cosine_data.head()\n",
    "labels = cosine_data.reviewerID.tolist()"
   ]
  },
  {
   "cell_type": "code",
   "execution_count": 453,
   "metadata": {
    "collapsed": true,
    "scrolled": true
   },
   "outputs": [],
   "source": [
    "def Cosine_similarity(a_list, i):\n",
    "    from sklearn.feature_extraction.text import TfidfVectorizer\n",
    "    from sklearn.metrics.pairwise import cosine_similarity\n",
    "    import math \n",
    "    vector_tfid = TfidfVectorizer()\n",
    "    matrix_vector_tfid = vector_tfid.fit_transform(a_list)\n",
    "    print(matrix_vector_tfid.shape)\n",
    "    return(cosine_similarity(matrix_vector_tfid[:i], matrix_vector_tfid))"
   ]
  },
  {
   "cell_type": "code",
   "execution_count": 459,
   "metadata": {},
   "outputs": [
    {
     "name": "stdout",
     "output_type": "stream",
     "text": [
      "(21, 414)\n"
     ]
    }
   ],
   "source": [
    "cos_similarity = Cosine_similarity(review_list,21)"
   ]
  },
  {
   "cell_type": "code",
   "execution_count": 460,
   "metadata": {
    "scrolled": true
   },
   "outputs": [
    {
     "data": {
      "text/plain": [
       "array([ 0.16555146,  0.25309757,  1.        ,  0.13718191,  0.01485614,\n",
       "        0.15022291,  0.09478452,  0.18011462,  0.26931071,  0.19595474,\n",
       "        0.10448577,  0.17212721,  0.06675802,  0.10296184,  0.05797174,\n",
       "        0.16490913,  0.17872508,  0.08517763,  0.20611951,  0.1559673 ,\n",
       "        0.06513522])"
      ]
     },
     "execution_count": 460,
     "metadata": {},
     "output_type": "execute_result"
    }
   ],
   "source": [
    "cos_similarity[2]"
   ]
  },
  {
   "cell_type": "code",
   "execution_count": 653,
   "metadata": {
    "collapsed": true
   },
   "outputs": [],
   "source": [
    "def cosine_angle(cos_a): \n",
    "    import math\n",
    "    cos_angle = list()\n",
    "    for i in cos_a:\n",
    "        for j in i:\n",
    "            angle_in_radians = math.atan(j)\n",
    "            angle_in_degree = math.degrees(angle_in_radians)\n",
    "            cos_angle.append(angle_in_degree)\n",
    "    return(cos_angle)"
   ]
  },
  {
   "cell_type": "code",
   "execution_count": 654,
   "metadata": {
    "scrolled": true
   },
   "outputs": [
    {
     "ename": "ValueError",
     "evalue": "math domain error",
     "output_type": "error",
     "traceback": [
      "\u001b[1;31m---------------------------------------------------------------------------\u001b[0m",
      "\u001b[1;31mValueError\u001b[0m                                Traceback (most recent call last)",
      "\u001b[1;32m<ipython-input-654-544ec74e7c8f>\u001b[0m in \u001b[0;36m<module>\u001b[1;34m()\u001b[0m\n\u001b[1;32m----> 1\u001b[1;33m \u001b[0mcosine_angle\u001b[0m\u001b[1;33m(\u001b[0m\u001b[0mcos_similarity\u001b[0m\u001b[1;33m)\u001b[0m\u001b[1;33m\u001b[0m\u001b[0m\n\u001b[0m",
      "\u001b[1;32m<ipython-input-653-6bc4974c0bb6>\u001b[0m in \u001b[0;36mcosine_angle\u001b[1;34m(cos_a)\u001b[0m\n\u001b[0;32m      4\u001b[0m     \u001b[1;32mfor\u001b[0m \u001b[0mi\u001b[0m \u001b[1;32min\u001b[0m \u001b[0mcos_a\u001b[0m\u001b[1;33m:\u001b[0m\u001b[1;33m\u001b[0m\u001b[0m\n\u001b[0;32m      5\u001b[0m         \u001b[1;32mfor\u001b[0m \u001b[0mj\u001b[0m \u001b[1;32min\u001b[0m \u001b[0mi\u001b[0m\u001b[1;33m:\u001b[0m\u001b[1;33m\u001b[0m\u001b[0m\n\u001b[1;32m----> 6\u001b[1;33m             \u001b[0ma_sin\u001b[0m  \u001b[1;33m=\u001b[0m \u001b[0mmath\u001b[0m\u001b[1;33m.\u001b[0m\u001b[0masin\u001b[0m\u001b[1;33m(\u001b[0m\u001b[0mj\u001b[0m\u001b[1;33m)\u001b[0m\u001b[1;33m\u001b[0m\u001b[0m\n\u001b[0m\u001b[0;32m      7\u001b[0m             \u001b[0ma_tan\u001b[0m \u001b[1;33m=\u001b[0m \u001b[0mmath\u001b[0m\u001b[1;33m.\u001b[0m\u001b[0matan\u001b[0m\u001b[1;33m(\u001b[0m\u001b[0mj\u001b[0m\u001b[1;33m)\u001b[0m\u001b[1;33m\u001b[0m\u001b[0m\n\u001b[0;32m      8\u001b[0m             \u001b[0mangle_in_radians\u001b[0m \u001b[1;33m=\u001b[0m \u001b[1;33m(\u001b[0m\u001b[0ma_sin\u001b[0m\u001b[1;33m/\u001b[0m\u001b[0ma_tan\u001b[0m\u001b[1;33m)\u001b[0m\u001b[1;33m\u001b[0m\u001b[0m\n",
      "\u001b[1;31mValueError\u001b[0m: math domain error"
     ]
    }
   ],
   "source": [
    "cosine_angle(cos_similarity)"
   ]
  },
  {
   "cell_type": "code",
   "execution_count": 474,
   "metadata": {},
   "outputs": [
    {
     "data": {
      "image/png": "[encoded data removed]",
      "text/plain": [
       "<matplotlib.figure.Figure at 0x12ed95c0>"
      ]
     },
     "metadata": {},
     "output_type": "display_data"
    }
   ],
   "source": [
    "##plotting similarity matrix for a particular review in specifc to te product\n",
    "import matplotlib.pyplot as plt\n",
    "fig,ax = plt.subplots(figsize=(20,20))\n",
    "ax.grid(True)\n",
    "cax = ax.matshow(cos_similarity, interpolation='nearest')\n",
    "plt.xticks(range(21), labels,rotation=90 )\n",
    "plt.yticks(range(21), labels)\n",
    "plt.title('Cosine Similarity Matrix')\n",
    "plt.show()"
   ]
  },
  {
   "cell_type": "code",
   "execution_count": null,
   "metadata": {
    "collapsed": true
   },
   "outputs": [],
   "source": []
  },
  {
   "cell_type": "code",
   "execution_count": null,
   "metadata": {
    "collapsed": true
   },
   "outputs": [],
   "source": []
  }
 ],
 "metadata": {
  "celltoolbar": "Slideshow",
  "kernelspec": {
   "display_name": "Python 3",
   "language": "python",
   "name": "python3"
  },
  "language_info": {
   "codemirror_mode": {
    "name": "ipython",
    "version": 3
   },
   "file_extension": ".py",
   "mimetype": "text/x-python",
   "name": "python",
   "nbconvert_exporter": "python",
   "pygments_lexer": "ipython3",
   "version": "3.6.3"
  }
 },
 "nbformat": 4,
 "nbformat_minor": 2
}
